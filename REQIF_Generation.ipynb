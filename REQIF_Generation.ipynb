{
 "cells": [
  {
   "cell_type": "code",
   "execution_count": 21,
   "metadata": {},
   "outputs": [
    {
     "name": "stdout",
     "output_type": "stream",
     "text": [
      "Sheet1\n",
      "Sheet1\n",
      "{'IDENTIFIER': '_doc_type_ref', 'LAST-CHANGE': '2023-03-14T09:11:51.991731', 'LONG-NAME': 'doc_type'}\n"
     ]
    },
    {
     "name": "stderr",
     "output_type": "stream",
     "text": [
      "c:\\Users\\gianpaolo.borrello\\AppData\\Local\\Programs\\Python\\Python311\\Lib\\zipfile.py:1547: UserWarning: Duplicate name: 'BDY01.reqif'\n",
      "  return self._open_to_write(zinfo, force_zip64=force_zip64)\n"
     ]
    },
    {
     "name": "stdout",
     "output_type": "stream",
     "text": [
      "Sheet1\n",
      "Sheet1\n",
      "{'IDENTIFIER': '_doc_type_ref', 'LAST-CHANGE': '2023-03-14T09:11:51.991731', 'LONG-NAME': 'doc_type'}\n"
     ]
    },
    {
     "name": "stderr",
     "output_type": "stream",
     "text": [
      "c:\\Users\\gianpaolo.borrello\\AppData\\Local\\Programs\\Python\\Python311\\Lib\\zipfile.py:1547: UserWarning: Duplicate name: 'BDY02.reqif'\n",
      "  return self._open_to_write(zinfo, force_zip64=force_zip64)\n"
     ]
    },
    {
     "name": "stdout",
     "output_type": "stream",
     "text": [
      "Sheet1\n",
      "Sheet1\n",
      "{'IDENTIFIER': '_doc_type_ref', 'LAST-CHANGE': '2023-03-14T09:11:51.991731', 'LONG-NAME': 'doc_type'}\n"
     ]
    },
    {
     "name": "stderr",
     "output_type": "stream",
     "text": [
      "c:\\Users\\gianpaolo.borrello\\AppData\\Local\\Programs\\Python\\Python311\\Lib\\zipfile.py:1547: UserWarning: Duplicate name: 'BDY03.reqif'\n",
      "  return self._open_to_write(zinfo, force_zip64=force_zip64)\n"
     ]
    }
   ],
   "source": [
    "#!/usr/bin/env python3\n",
    "import os\n",
    "import zipfile\n",
    "import openpyxl\n",
    "import pyreqif.create\n",
    "import pyreqif.reqif\n",
    "import io\n",
    "import openpyxl\n",
    "\n",
    "file_names = [\"BDY01.xlsx\", \"BDY02.xlsx\", \"BDY03.xlsx\"]\n",
    "\n",
    "\n",
    "for file_name in file_names:\n",
    "    workbook = openpyxl.load_workbook(file_name)\n",
    "\n",
    "    for sheet_name in workbook.sheetnames:\n",
    "        worksheet = workbook[sheet_name]\n",
    "        worksheet.row_dimensions.group(1, worksheet.max_row + 1, outline_level=0)\n",
    "        empty_cols = [col_idx for col_idx, col in enumerate(worksheet.columns, 1) if all(cell.value is None for cell in col)]\n",
    "        for col_idx in reversed(empty_cols):\n",
    "            worksheet.delete_cols(col_idx, 1)\n",
    "    # Save the workbook\n",
    "    workbook.save(file_name)\n",
    "\n",
    "    document_title, _ = os.path.splitext(os.path.basename(file_name))\n",
    "    output_file = document_title + \".reqifz\"\n",
    "\n",
    "    #images = get_images_from_excel(file_name, output_file)\n",
    "    wb = openpyxl.load_workbook(file_name)\n",
    "    ws = wb.active\n",
    "\n",
    "    columns = []\n",
    "    for col_nr in range(1, ws.max_column + 1):\n",
    "        columns.append(ws.cell(1, col_nr).value)\n",
    "\n",
    "    document_reqif_id = \"_{}ReqifId-Header\".format(document_title)\n",
    "    spec_reqif_id = \"_{}ReqifId--spec\".format(document_title)\n",
    "    doc_type_ref = \"_doc_type_ref\"\n",
    "\n",
    "    #\n",
    "    # create doc:\n",
    "    #\n",
    "    mydoc = pyreqif.create.createDocument(document_reqif_id, title=document_title)\n",
    "    pyreqif.create.addDocType(doc_type_ref, mydoc)\n",
    "    # create primitive datatype\n",
    "    #\n",
    "    pyreqif.create.addDatatype(\"_datatype_ID\", mydoc)\n",
    "    #\n",
    "    # create columns\n",
    "    #\n",
    "    for col in columns:\n",
    "        pyreqif.create.addReqType(\"_some_requirement_type_id\", \"requirement Type\", \"_reqtype_for_\" + col.replace(\" \", \"_\"),col, \"_datatype_ID\", mydoc)\n",
    "    #\n",
    "    # create document hierarchy head\n",
    "    #\n",
    "    myHierarch = pyreqif.create.createHierarchHead(document_title, typeRef=doc_type_ref, id=spec_reqif_id)\n",
    "    #\n",
    "    # create child elements\n",
    "    #\n",
    "    #xls_req = {}\n",
    "    hierarch_stack = []\n",
    "    last_hierarch_element = myHierarch\n",
    "    for row_nr in range(2, ws.max_row+1):\n",
    "        xls_req = {}\n",
    "        for x in range(1, ws.max_column + 1):\n",
    "            column_name = columns[x - 1]\n",
    "            cell_value = ws.cell(row_nr, x).value\n",
    "            xls_req[column_name] = cell_value\n",
    "        \n",
    "        #GetId of test\n",
    "        #if str(xls_req[col]) == \"Object Identifier\":\n",
    "        \n",
    "        #print(str(xls_req[columns[0]]))\n",
    "\n",
    "        if \"reqifId\" not in xls_req:\n",
    "            xls_req[\"reqifId\"] = str(xls_req[columns[0]])+\" - \"+str(xls_req[columns[3]]) #+ pyreqif.create.creatUUID()\n",
    "        \n",
    "        for col in columns:\n",
    "            #xls_req[\"reqifId\"] = 'TEST'+ pyreqif.create.creatUUID()\n",
    "            if type(xls_req[col]) == str:\n",
    "                xls_req[col] = xls_req[col].replace(\">\", \"&gt;\")\n",
    "                xls_req[col] = xls_req[col].replace(\"<\", \"&lt;\")\n",
    "            if xls_req[col] is not None:\n",
    "                pyreqif.create.addReq(xls_req[\"reqifId\"], \"_some_requirement_type_id\",\"<div>\" + str(xls_req[col]) + \"</div>\", \"_reqtype_for_\" + col.replace(\" \", \"_\"),mydoc)\n",
    "        \n",
    "\n",
    "        # do hierarchy\n",
    "        hierarch_element = pyreqif.create.createHierarchElement(xls_req[\"reqifId\"])\n",
    "        level = ws.row_dimensions[row_nr].outline_level + 1\n",
    "        if level > len(hierarch_stack):\n",
    "            hierarch_stack.append(last_hierarch_element)\n",
    "        elif level < len(hierarch_stack):\n",
    "            hierarch_stack = hierarch_stack[0:level]\n",
    "\n",
    "        if level <= len(hierarch_stack):\n",
    "            current_head = hierarch_stack[level - 1]\n",
    "            current_head.addChild(hierarch_element)\n",
    "            last_hierarch_element = hierarch_element\n",
    "        else:\n",
    "            print(f\"Warning: Skipping row {row_nr} due to invalid hierarchy level {level}\")\n",
    "\n",
    "\n",
    "    mydoc.hierarchy.append(myHierarch)\n",
    "\n",
    "    #\n",
    "    # safe reqif to string\n",
    "    strIO = io.StringIO()\n",
    "    pyreqif.reqif.dump(mydoc, strIO)\n",
    "\n",
    "    # add reqifz as zip-file\n",
    "    zip = zipfile.ZipFile(output_file, 'a', zipfile.ZIP_DEFLATED)\n",
    "    zip.writestr(document_title + '.reqif', strIO.getvalue())\n",
    "\n",
    "    zip.close()\n",
    "    # write reqif string to file\n",
    "    output_file_name = document_title + '.reqif'\n",
    "    with open(output_file_name, 'w') as f:\n",
    "        f.write(strIO.getvalue())"
   ]
  },
  {
   "cell_type": "code",
   "execution_count": null,
   "metadata": {},
   "outputs": [],
   "source": [
    "import openpyxl\n",
    "\n",
    "file_name = r\"C:\\Automotive\\STCReqManagement\\pyreqif\\BDY02__ - Copy.xlsx\"\n",
    "workbook = openpyxl.load_workbook(file_name)\n",
    "\n",
    "for sheet_name in workbook.sheetnames:\n",
    "    worksheet = workbook[sheet_name]\n",
    "    worksheet.row_dimensions.group(1, worksheet.max_row + 1, outline_level=0)\n",
    "    empty_cols = [col_idx for col_idx, col in enumerate(worksheet.columns, 1) if all(cell.value is None for cell in col)]\n",
    "    for col_idx in reversed(empty_cols):\n",
    "        worksheet.delete_cols(col_idx, 1)\n",
    "\n",
    "# Save the workbook\n",
    "workbook.save(file_name)\n"
   ]
  },
  {
   "cell_type": "code",
   "execution_count": null,
   "metadata": {},
   "outputs": [],
   "source": [
    "pip install --upgrade openpyxl"
   ]
  },
  {
   "cell_type": "code",
   "execution_count": 3,
   "metadata": {},
   "outputs": [],
   "source": [
    "#!/usr/bin/env python3\n",
    "import pyreqif.rif\n",
    "import pyreqif.html\n",
    "import pyreqif.xlsx\n",
    "import sys\n",
    "import os\n",
    "\n",
    "def process_file(filename):\n",
    "    doc = pyreqif.rif.load(filename)\n",
    "    basename = os.path.splitext(filename)[0]\n",
    "    pyreqif.html.dump(doc, basename + \".html\", os.path.dirname(filename))\n",
    "    pyreqif.xlsx.dump(doc, basename + \"_backgen.xlsx\", os.path.dirname(filename))\n",
    "\n",
    "def main():\n",
    "    file_list = [\"BDY01.reqif\", \"BDY02.reqif\", \"BDY03.reqif\"]\n",
    "    for filename in file_list:\n",
    "        process_file(filename)\n",
    "\n",
    "if __name__ == \"__main__\":\n",
    "    main()"
   ]
  }
 ],
 "metadata": {
  "kernelspec": {
   "display_name": "Python 3",
   "language": "python",
   "name": "python3"
  },
  "language_info": {
   "codemirror_mode": {
    "name": "ipython",
    "version": 3
   },
   "file_extension": ".py",
   "mimetype": "text/x-python",
   "name": "python",
   "nbconvert_exporter": "python",
   "pygments_lexer": "ipython3",
   "version": "3.11.1"
  },
  "orig_nbformat": 4
 },
 "nbformat": 4,
 "nbformat_minor": 2
}
